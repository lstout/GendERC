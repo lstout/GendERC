{
 "cells": [
  {
   "cell_type": "code",
   "execution_count": 2,
   "metadata": {
    "collapsed": false
   },
   "outputs": [
    {
     "name": "stdout",
     "output_type": "stream",
     "text": [
      "Populating the interactive namespace from numpy and matplotlib\n"
     ]
    }
   ],
   "source": [
    "%pylab inline\n",
    "%load_ext autoreload\n",
    "%autoreload 2\n",
    "from __future__ import division, print_function\n",
    "import reader\n",
    "import cPickle\n",
    "from SPARQLWrapper import SPARQLWrapper, JSON\n",
    "from spotlight import annotate, SpotlightException\n",
    "from functools import partial\n",
    "import pandas as pd\n",
    "import requests\n",
    "from multiprocessing.dummy import Pool\n",
    "import time"
   ]
  },
  {
   "cell_type": "code",
   "execution_count": 3,
   "metadata": {
    "collapsed": false
   },
   "outputs": [],
   "source": [
    "import os\n",
    "from os import listdir\n",
    "def find_files_folder(path, ext):\n",
    "    onlyfiles = [ os.path.join(path,f) for f in listdir(path) if os.path.isfile(os.path.join(path,f)) and f[-3:] == ext ]\n",
    "    return onlyfiles"
   ]
  },
  {
   "cell_type": "code",
   "execution_count": 4,
   "metadata": {
    "collapsed": false
   },
   "outputs": [],
   "source": [
    "import re\n",
    "re_sections = re.compile(r'(section[\\s▯]+?b[\\s:\\.]*?(.*)|c(?:\\s)?urr?iculum\\s*v(?:\\s)?it(?:ae)?(.*)|about the principle investigator(.*)|personal\\s+?information(.*)|cv\\s+?of\\s+?the\\s+?principal\\s+?investigator(.*)|6\\s*Cattaneo\\s*Part\\s*B1\\s*ABC(.*)|CV\\s*applicant(.*)|http://goo\\.gl/f4buun(.*)|CV, Pia Quist(.*)|Angela\\s*Beth\\s*Brueggemann,\\s*MSc,\\s*DPhil(.*)|b:\\s*CV(.*)|http://solveigserre\\.free\\.fr(.*)|Personal\\s*details(.*)|CV\\s*-(.*))', flags=re.DOTALL + re.UNICODE + re.MULTILINE + re.IGNORECASE)\n",
    "re_section_track_record = re.compile(r'(?:section\\s+?\\(?c\\)?|(?:e(?:\\s)?arly)?(?:-track)?\\s?a(?:\\s)?chievements?|track[\\s-]+?record)', flags=re.DOTALL + re.UNICODE + re.MULTILINE + re.IGNORECASE)\n",
    "re_cv = re.compile(r'education(.*?)current position(?:\\(s\\))?(.*?)previous position(?:\\(s\\))?(.*)', flags=re.DOTALL + re.UNICODE + re.MULTILINE + re.IGNORECASE)\n",
    "re_grant = re.compile('(?<![\\.\\d])(\\d{1,3}[\\.,](\\d{3}[\\.,])*\\d{3}(?!\\d))', flags=re.DOTALL + re.UNICODE + re.MULTILINE + re.IGNORECASE)"
   ]
  },
  {
   "cell_type": "code",
   "execution_count": 5,
   "metadata": {
    "collapsed": false
   },
   "outputs": [],
   "source": [
    "def get_cv(text):\n",
    "    sections = re_sections.search(text).groups()[0]\n",
    "    cv, track_record = re_section_track_record.split(sections, maxsplit = 1)\n",
    "    return cv, track_record"
   ]
  },
  {
   "cell_type": "code",
   "execution_count": 6,
   "metadata": {
    "collapsed": false
   },
   "outputs": [],
   "source": [
    "types = '''DBpedia:EducationalInstitution,\n",
    "DBpedia:University,\n",
    "DBpedia:Government_agency,\n",
    "Freebase:/education/academic_institution,\n",
    "Freebase:/education/educational_institution,\n",
    "Freebase:/education/school,\n",
    "Freebase:/education/university,\n",
    "Freebase:/education/university_system,\n",
    "Freebase:/government/government_agency,\n",
    "Schema:CollegeOrUniversity,\n",
    "Schema:EducationalOrganization,\n",
    "Schema:GovernmentOrganization,\n",
    "DBpedia:Organisation,\n",
    "Schema:Organization,\n",
    "Freebase:/organization/organization,\n",
    "Freebase:/organization'''\n",
    "_dbp = partial(annotate, 'http://spotlight.dbpedia.org/rest/annotate', types=types)\n",
    "\n",
    "def get_institutions(text):\n",
    "    try:\n",
    "        entities = _dbp(text)\n",
    "    except SpotlightException :\n",
    "        return []\n",
    "    return_list = []\n",
    "    for entity in entities:\n",
    "        try:\n",
    "            surf = entity['surfaceForm']\n",
    "            if len(surf.split()) <= 1 and not surf.upper() == surf:\n",
    "                continue\n",
    "        except:\n",
    "            continue\n",
    "        return_list.append(entity)\n",
    "    return return_list\n",
    "        "
   ]
  },
  {
   "cell_type": "code",
   "execution_count": 13,
   "metadata": {
    "collapsed": false
   },
   "outputs": [],
   "source": [
    "from collections import defaultdict\n",
    "\n",
    "ranking = pd.DataFrame.from_csv('institutes.txt', sep='\\t')\n",
    "def parse_cv(cv):\n",
    "    search = re_cv.search(cv)\n",
    "    if search:\n",
    "        concat_cv = ('='*80+'\\n').join(s for s in search.groups() if s)\n",
    "    else:\n",
    "        concat_cv = cv\n",
    "    \n",
    "    all_insts = get_institutions(concat_cv)\n",
    "    \n",
    "    insts = defaultdict(list)\n",
    "    for inst in all_insts:\n",
    "        insts[inst['URI']].append(inst['surfaceForm'])\n",
    "\n",
    "    institutions = []\n",
    "    not_found = []\n",
    "    for URI, surfForms in insts.items():\n",
    "        try:\n",
    "            print(ranking.loc[ranking['URI'] == URI])\n",
    "            rank = ranking.loc[ranking['URI'] == URI].values[0]\n",
    "        except IndexError:\n",
    "            rank = None\n",
    "            not_found.append((surfForms,  URI))\n",
    "        institutions.append({'URI' : URI, 'surfForms' : surfForms, 'rank' : rank})\n",
    "            \n",
    "    return institutions, not_found"
   ]
  },
  {
   "cell_type": "code",
   "execution_count": 14,
   "metadata": {
    "collapsed": false
   },
   "outputs": [],
   "source": [
    "def read_cv(f):\n",
    "    ret_f = os.path.splitext(os.path.basename(f))[0]\n",
    "    filename_text = 'cache/'+ret_f\n",
    "    \n",
    "    try:\n",
    "        with open(filename_text) as fh:\n",
    "            text = cPickle.load(fh)\n",
    "    except:\n",
    "        try:\n",
    "            text = reader.extract_text_pdf(f)\n",
    "        except Exception as e:\n",
    "            return (ret_f[:6], \"\")\n",
    "        with open(filename_text,'w') as fh:\n",
    "            cPickle.dump(text,fh)\n",
    "    \n",
    "    return (ret_f[:6],text)\n",
    "\n",
    "def process_cv(f_text):\n",
    "    f,text = f_text\n",
    "    if not text:\n",
    "        return (f, None, None, None)\n",
    "    try:\n",
    "        cv, track_record = get_cv(text)\n",
    "        institutions, not_found = parse_cv(cv)\n",
    "    except (AttributeError, ValueError, requests.HTTPError, SpotlightException) as e:\n",
    "        print(f)\n",
    "        print(type(e))\n",
    "        print(e)\n",
    "        return (f, None, None, None)\n",
    "    return (f, institutions, not_found)"
   ]
  },
  {
   "cell_type": "code",
   "execution_count": 15,
   "metadata": {
    "collapsed": false
   },
   "outputs": [
    {
     "name": "stdout",
     "output_type": "stream",
     "text": [
      "Round 1: 2238\n",
      "Round 2: 787\n",
      "Filtered away 337 of 3025\n",
      "                                                    URI  \\\n",
      "rank                                                      \n",
      "148   http://dbpedia.org/resource/Delft_University_o...   \n",
      "\n",
      "                                name  \n",
      "rank                                  \n",
      "148   Delft University of Technology  \n"
     ]
    },
    {
     "ename": "KeyError",
     "evalue": "'rank'",
     "output_type": "error",
     "traceback": [
      "\u001b[0;31m---------------------------------------------------------------------------\u001b[0m",
      "\u001b[0;31mKeyError\u001b[0m                                  Traceback (most recent call last)",
      "\u001b[0;32m<ipython-input-15-026753ed5c8c>\u001b[0m in \u001b[0;36m<module>\u001b[0;34m()\u001b[0m\n\u001b[1;32m     42\u001b[0m \u001b[0;34m\u001b[0m\u001b[0m\n\u001b[1;32m     43\u001b[0m     \u001b[0mtext\u001b[0m \u001b[0;34m=\u001b[0m \u001b[0mread_cv\u001b[0m\u001b[0;34m(\u001b[0m\u001b[0mf\u001b[0m\u001b[0;34m)\u001b[0m\u001b[0;34m\u001b[0m\u001b[0m\n\u001b[0;32m---> 44\u001b[0;31m     \u001b[0mres\u001b[0m \u001b[0;34m=\u001b[0m \u001b[0mprocess_cv\u001b[0m\u001b[0;34m(\u001b[0m\u001b[0mtext\u001b[0m\u001b[0;34m)\u001b[0m\u001b[0;34m\u001b[0m\u001b[0m\n\u001b[0m\u001b[1;32m     45\u001b[0m     \u001b[0mf\u001b[0m\u001b[0;34m,\u001b[0m \u001b[0minsts\u001b[0m\u001b[0;34m,\u001b[0m \u001b[0mnot_found\u001b[0m \u001b[0;34m=\u001b[0m \u001b[0mres\u001b[0m\u001b[0;34m\u001b[0m\u001b[0m\n\u001b[1;32m     46\u001b[0m \u001b[0;34m\u001b[0m\u001b[0m\n",
      "\u001b[0;32m<ipython-input-14-92b313faa64d>\u001b[0m in \u001b[0;36mprocess_cv\u001b[0;34m(f_text)\u001b[0m\n\u001b[1;32m     22\u001b[0m     \u001b[0;32mtry\u001b[0m\u001b[0;34m:\u001b[0m\u001b[0;34m\u001b[0m\u001b[0m\n\u001b[1;32m     23\u001b[0m         \u001b[0mcv\u001b[0m\u001b[0;34m,\u001b[0m \u001b[0mtrack_record\u001b[0m \u001b[0;34m=\u001b[0m \u001b[0mget_cv\u001b[0m\u001b[0;34m(\u001b[0m\u001b[0mtext\u001b[0m\u001b[0;34m)\u001b[0m\u001b[0;34m\u001b[0m\u001b[0m\n\u001b[0;32m---> 24\u001b[0;31m         \u001b[0minstitutions\u001b[0m\u001b[0;34m,\u001b[0m \u001b[0mnot_found\u001b[0m \u001b[0;34m=\u001b[0m \u001b[0mparse_cv\u001b[0m\u001b[0;34m(\u001b[0m\u001b[0mcv\u001b[0m\u001b[0;34m)\u001b[0m\u001b[0;34m\u001b[0m\u001b[0m\n\u001b[0m\u001b[1;32m     25\u001b[0m     \u001b[0;32mexcept\u001b[0m \u001b[0;34m(\u001b[0m\u001b[0mAttributeError\u001b[0m\u001b[0;34m,\u001b[0m \u001b[0mValueError\u001b[0m\u001b[0;34m,\u001b[0m \u001b[0mrequests\u001b[0m\u001b[0;34m.\u001b[0m\u001b[0mHTTPError\u001b[0m\u001b[0;34m,\u001b[0m \u001b[0mSpotlightException\u001b[0m\u001b[0;34m)\u001b[0m \u001b[0;32mas\u001b[0m \u001b[0me\u001b[0m\u001b[0;34m:\u001b[0m\u001b[0;34m\u001b[0m\u001b[0m\n\u001b[1;32m     26\u001b[0m         \u001b[0;32mprint\u001b[0m\u001b[0;34m(\u001b[0m\u001b[0mf\u001b[0m\u001b[0;34m)\u001b[0m\u001b[0;34m\u001b[0m\u001b[0m\n",
      "\u001b[0;32m<ipython-input-13-8c2fd2b4fb93>\u001b[0m in \u001b[0;36mparse_cv\u001b[0;34m(cv)\u001b[0m\n\u001b[1;32m     20\u001b[0m         \u001b[0;32mtry\u001b[0m\u001b[0;34m:\u001b[0m\u001b[0;34m\u001b[0m\u001b[0m\n\u001b[1;32m     21\u001b[0m             \u001b[0;32mprint\u001b[0m\u001b[0;34m(\u001b[0m\u001b[0mranking\u001b[0m\u001b[0;34m.\u001b[0m\u001b[0mloc\u001b[0m\u001b[0;34m[\u001b[0m\u001b[0mranking\u001b[0m\u001b[0;34m[\u001b[0m\u001b[0;34m'URI'\u001b[0m\u001b[0;34m]\u001b[0m \u001b[0;34m==\u001b[0m \u001b[0mURI\u001b[0m\u001b[0;34m]\u001b[0m\u001b[0;34m)\u001b[0m\u001b[0;34m\u001b[0m\u001b[0m\n\u001b[0;32m---> 22\u001b[0;31m             \u001b[0mrank\u001b[0m \u001b[0;34m=\u001b[0m \u001b[0mranking\u001b[0m\u001b[0;34m.\u001b[0m\u001b[0mloc\u001b[0m\u001b[0;34m[\u001b[0m\u001b[0mranking\u001b[0m\u001b[0;34m[\u001b[0m\u001b[0;34m'URI'\u001b[0m\u001b[0;34m]\u001b[0m \u001b[0;34m==\u001b[0m \u001b[0mURI\u001b[0m\u001b[0;34m]\u001b[0m\u001b[0;34m[\u001b[0m\u001b[0;34m'rank'\u001b[0m\u001b[0;34m]\u001b[0m\u001b[0;34m.\u001b[0m\u001b[0mvalues\u001b[0m\u001b[0;34m[\u001b[0m\u001b[0;36m0\u001b[0m\u001b[0;34m]\u001b[0m\u001b[0;34m\u001b[0m\u001b[0m\n\u001b[0m\u001b[1;32m     23\u001b[0m         \u001b[0;32mexcept\u001b[0m \u001b[0mIndexError\u001b[0m\u001b[0;34m:\u001b[0m\u001b[0;34m\u001b[0m\u001b[0m\n\u001b[1;32m     24\u001b[0m             \u001b[0mrank\u001b[0m \u001b[0;34m=\u001b[0m \u001b[0mNone\u001b[0m\u001b[0;34m\u001b[0m\u001b[0m\n",
      "\u001b[0;32m/usr/local/lib/python2.7/site-packages/pandas/core/frame.pyc\u001b[0m in \u001b[0;36m__getitem__\u001b[0;34m(self, key)\u001b[0m\n\u001b[1;32m   1795\u001b[0m             \u001b[0;32mreturn\u001b[0m \u001b[0mself\u001b[0m\u001b[0;34m.\u001b[0m\u001b[0m_getitem_multilevel\u001b[0m\u001b[0;34m(\u001b[0m\u001b[0mkey\u001b[0m\u001b[0;34m)\u001b[0m\u001b[0;34m\u001b[0m\u001b[0m\n\u001b[1;32m   1796\u001b[0m         \u001b[0;32melse\u001b[0m\u001b[0;34m:\u001b[0m\u001b[0;34m\u001b[0m\u001b[0m\n\u001b[0;32m-> 1797\u001b[0;31m             \u001b[0;32mreturn\u001b[0m \u001b[0mself\u001b[0m\u001b[0;34m.\u001b[0m\u001b[0m_getitem_column\u001b[0m\u001b[0;34m(\u001b[0m\u001b[0mkey\u001b[0m\u001b[0;34m)\u001b[0m\u001b[0;34m\u001b[0m\u001b[0m\n\u001b[0m\u001b[1;32m   1798\u001b[0m \u001b[0;34m\u001b[0m\u001b[0m\n\u001b[1;32m   1799\u001b[0m     \u001b[0;32mdef\u001b[0m \u001b[0m_getitem_column\u001b[0m\u001b[0;34m(\u001b[0m\u001b[0mself\u001b[0m\u001b[0;34m,\u001b[0m \u001b[0mkey\u001b[0m\u001b[0;34m)\u001b[0m\u001b[0;34m:\u001b[0m\u001b[0;34m\u001b[0m\u001b[0m\n",
      "\u001b[0;32m/usr/local/lib/python2.7/site-packages/pandas/core/frame.pyc\u001b[0m in \u001b[0;36m_getitem_column\u001b[0;34m(self, key)\u001b[0m\n\u001b[1;32m   1802\u001b[0m         \u001b[0;31m# get column\u001b[0m\u001b[0;34m\u001b[0m\u001b[0;34m\u001b[0m\u001b[0m\n\u001b[1;32m   1803\u001b[0m         \u001b[0;32mif\u001b[0m \u001b[0mself\u001b[0m\u001b[0;34m.\u001b[0m\u001b[0mcolumns\u001b[0m\u001b[0;34m.\u001b[0m\u001b[0mis_unique\u001b[0m\u001b[0;34m:\u001b[0m\u001b[0;34m\u001b[0m\u001b[0m\n\u001b[0;32m-> 1804\u001b[0;31m             \u001b[0;32mreturn\u001b[0m \u001b[0mself\u001b[0m\u001b[0;34m.\u001b[0m\u001b[0m_get_item_cache\u001b[0m\u001b[0;34m(\u001b[0m\u001b[0mkey\u001b[0m\u001b[0;34m)\u001b[0m\u001b[0;34m\u001b[0m\u001b[0m\n\u001b[0m\u001b[1;32m   1805\u001b[0m \u001b[0;34m\u001b[0m\u001b[0m\n\u001b[1;32m   1806\u001b[0m         \u001b[0;31m# duplicate columns & possible reduce dimensionaility\u001b[0m\u001b[0;34m\u001b[0m\u001b[0;34m\u001b[0m\u001b[0m\n",
      "\u001b[0;32m/usr/local/lib/python2.7/site-packages/pandas/core/generic.pyc\u001b[0m in \u001b[0;36m_get_item_cache\u001b[0;34m(self, item)\u001b[0m\n\u001b[1;32m   1082\u001b[0m         \u001b[0mres\u001b[0m \u001b[0;34m=\u001b[0m \u001b[0mcache\u001b[0m\u001b[0;34m.\u001b[0m\u001b[0mget\u001b[0m\u001b[0;34m(\u001b[0m\u001b[0mitem\u001b[0m\u001b[0;34m)\u001b[0m\u001b[0;34m\u001b[0m\u001b[0m\n\u001b[1;32m   1083\u001b[0m         \u001b[0;32mif\u001b[0m \u001b[0mres\u001b[0m \u001b[0;32mis\u001b[0m \u001b[0mNone\u001b[0m\u001b[0;34m:\u001b[0m\u001b[0;34m\u001b[0m\u001b[0m\n\u001b[0;32m-> 1084\u001b[0;31m             \u001b[0mvalues\u001b[0m \u001b[0;34m=\u001b[0m \u001b[0mself\u001b[0m\u001b[0;34m.\u001b[0m\u001b[0m_data\u001b[0m\u001b[0;34m.\u001b[0m\u001b[0mget\u001b[0m\u001b[0;34m(\u001b[0m\u001b[0mitem\u001b[0m\u001b[0;34m)\u001b[0m\u001b[0;34m\u001b[0m\u001b[0m\n\u001b[0m\u001b[1;32m   1085\u001b[0m             \u001b[0mres\u001b[0m \u001b[0;34m=\u001b[0m \u001b[0mself\u001b[0m\u001b[0;34m.\u001b[0m\u001b[0m_box_item_values\u001b[0m\u001b[0;34m(\u001b[0m\u001b[0mitem\u001b[0m\u001b[0;34m,\u001b[0m \u001b[0mvalues\u001b[0m\u001b[0;34m)\u001b[0m\u001b[0;34m\u001b[0m\u001b[0m\n\u001b[1;32m   1086\u001b[0m             \u001b[0mcache\u001b[0m\u001b[0;34m[\u001b[0m\u001b[0mitem\u001b[0m\u001b[0;34m]\u001b[0m \u001b[0;34m=\u001b[0m \u001b[0mres\u001b[0m\u001b[0;34m\u001b[0m\u001b[0m\n",
      "\u001b[0;32m/usr/local/lib/python2.7/site-packages/pandas/core/internals.pyc\u001b[0m in \u001b[0;36mget\u001b[0;34m(self, item, fastpath)\u001b[0m\n\u001b[1;32m   2849\u001b[0m \u001b[0;34m\u001b[0m\u001b[0m\n\u001b[1;32m   2850\u001b[0m             \u001b[0;32mif\u001b[0m \u001b[0;32mnot\u001b[0m \u001b[0misnull\u001b[0m\u001b[0;34m(\u001b[0m\u001b[0mitem\u001b[0m\u001b[0;34m)\u001b[0m\u001b[0;34m:\u001b[0m\u001b[0;34m\u001b[0m\u001b[0m\n\u001b[0;32m-> 2851\u001b[0;31m                 \u001b[0mloc\u001b[0m \u001b[0;34m=\u001b[0m \u001b[0mself\u001b[0m\u001b[0;34m.\u001b[0m\u001b[0mitems\u001b[0m\u001b[0;34m.\u001b[0m\u001b[0mget_loc\u001b[0m\u001b[0;34m(\u001b[0m\u001b[0mitem\u001b[0m\u001b[0;34m)\u001b[0m\u001b[0;34m\u001b[0m\u001b[0m\n\u001b[0m\u001b[1;32m   2852\u001b[0m             \u001b[0;32melse\u001b[0m\u001b[0;34m:\u001b[0m\u001b[0;34m\u001b[0m\u001b[0m\n\u001b[1;32m   2853\u001b[0m                 \u001b[0mindexer\u001b[0m \u001b[0;34m=\u001b[0m \u001b[0mnp\u001b[0m\u001b[0;34m.\u001b[0m\u001b[0marange\u001b[0m\u001b[0;34m(\u001b[0m\u001b[0mlen\u001b[0m\u001b[0;34m(\u001b[0m\u001b[0mself\u001b[0m\u001b[0;34m.\u001b[0m\u001b[0mitems\u001b[0m\u001b[0;34m)\u001b[0m\u001b[0;34m)\u001b[0m\u001b[0;34m[\u001b[0m\u001b[0misnull\u001b[0m\u001b[0;34m(\u001b[0m\u001b[0mself\u001b[0m\u001b[0;34m.\u001b[0m\u001b[0mitems\u001b[0m\u001b[0;34m)\u001b[0m\u001b[0;34m]\u001b[0m\u001b[0;34m\u001b[0m\u001b[0m\n",
      "\u001b[0;32m/usr/local/lib/python2.7/site-packages/pandas/core/index.pyc\u001b[0m in \u001b[0;36mget_loc\u001b[0;34m(self, key, method)\u001b[0m\n\u001b[1;32m   1570\u001b[0m         \"\"\"\n\u001b[1;32m   1571\u001b[0m         \u001b[0;32mif\u001b[0m \u001b[0mmethod\u001b[0m \u001b[0;32mis\u001b[0m \u001b[0mNone\u001b[0m\u001b[0;34m:\u001b[0m\u001b[0;34m\u001b[0m\u001b[0m\n\u001b[0;32m-> 1572\u001b[0;31m             \u001b[0;32mreturn\u001b[0m \u001b[0mself\u001b[0m\u001b[0;34m.\u001b[0m\u001b[0m_engine\u001b[0m\u001b[0;34m.\u001b[0m\u001b[0mget_loc\u001b[0m\u001b[0;34m(\u001b[0m\u001b[0m_values_from_object\u001b[0m\u001b[0;34m(\u001b[0m\u001b[0mkey\u001b[0m\u001b[0;34m)\u001b[0m\u001b[0;34m)\u001b[0m\u001b[0;34m\u001b[0m\u001b[0m\n\u001b[0m\u001b[1;32m   1573\u001b[0m \u001b[0;34m\u001b[0m\u001b[0m\n\u001b[1;32m   1574\u001b[0m         \u001b[0mindexer\u001b[0m \u001b[0;34m=\u001b[0m \u001b[0mself\u001b[0m\u001b[0;34m.\u001b[0m\u001b[0mget_indexer\u001b[0m\u001b[0;34m(\u001b[0m\u001b[0;34m[\u001b[0m\u001b[0mkey\u001b[0m\u001b[0;34m]\u001b[0m\u001b[0;34m,\u001b[0m \u001b[0mmethod\u001b[0m\u001b[0;34m=\u001b[0m\u001b[0mmethod\u001b[0m\u001b[0;34m)\u001b[0m\u001b[0;34m\u001b[0m\u001b[0m\n",
      "\u001b[0;32mpandas/index.pyx\u001b[0m in \u001b[0;36mpandas.index.IndexEngine.get_loc (pandas/index.c:3824)\u001b[0;34m()\u001b[0m\n",
      "\u001b[0;32mpandas/index.pyx\u001b[0m in \u001b[0;36mpandas.index.IndexEngine.get_loc (pandas/index.c:3704)\u001b[0;34m()\u001b[0m\n",
      "\u001b[0;32mpandas/hashtable.pyx\u001b[0m in \u001b[0;36mpandas.hashtable.PyObjectHashTable.get_item (pandas/hashtable.c:12280)\u001b[0;34m()\u001b[0m\n",
      "\u001b[0;32mpandas/hashtable.pyx\u001b[0m in \u001b[0;36mpandas.hashtable.PyObjectHashTable.get_item (pandas/hashtable.c:12231)\u001b[0;34m()\u001b[0m\n",
      "\u001b[0;31mKeyError\u001b[0m: 'rank'"
     ]
    }
   ],
   "source": [
    "stop_n = -1\n",
    "start = time.time()\n",
    "files_round1 = find_files_folder('/Volumes/Boxcryptor/Dropbox/Data Acad As/All CVs round 1','pdf')[:stop_n]\n",
    "print('Round 1:', len(files_round1))\n",
    "\n",
    "files_round2 = find_files_folder('/Volumes/Boxcryptor/Dropbox/Data Acad As/All CVs round 2','pdf')[:stop_n]\n",
    "print('Round 2:', len(files_round2))\n",
    "sys.stdout.flush()\n",
    "if not os.path.exists('cache/'):\n",
    "    os.mkdir('cache')\n",
    "\n",
    "processed_files = set()\n",
    "if not os.path.exists('institutions.tsv'):\n",
    "    with open('institutions.tsv','w') as fh:\n",
    "        fh.write('id \\t ints_name \\t inst_uri \\t rank \\t frequency \\n')\n",
    "else:\n",
    "    with open('institutions.tsv') as fh:\n",
    "        for line in fh:\n",
    "            line = line.split('\\t')\n",
    "            processed_files.add(line[0])\n",
    "\n",
    "faulty_set = set()\n",
    "if os.path.exists('faulty_files.txt'):\n",
    "    with open('faulty_files.txt', 'r') as fn:\n",
    "        for line in fn:\n",
    "            faulty_set.add(line.strip())\n",
    "\n",
    "faulty_files = []\n",
    "not_found_all = []\n",
    "correct_f = []\n",
    "inst_file = open('institutions.tsv', 'a')\n",
    "\n",
    "\n",
    "all_files = files_round1 + files_round2\n",
    "all_files = [f for f in all_files if not os.path.splitext(os.path.basename(f))[0][:6] in processed_files and not os.path.splitext(os.path.basename(f))[0][:6] in faulty_set]\n",
    "print('Filtered away', len(files_round1+files_round2) - len(all_files), 'of', len(files_round1+files_round2))\n",
    "\n",
    "for i, f in enumerate(all_files, start=1):\n",
    "    print(i, 'of',len(all_files),'(%.1f%%)' % (i/len(all_files)*100), end='')\n",
    "    sys.stdout.flush()\n",
    "    print('\\r', end='')\n",
    "    \n",
    "    text = read_cv(f)\n",
    "    res = process_cv(text)\n",
    "    f, insts, not_found = res\n",
    "        \n",
    "    if not insts and not not_found:\n",
    "        faulty_files.append(f)\n",
    "        continue\n",
    "    if insts:\n",
    "        for inst in insts:\n",
    "            inst_file.write(f + '\\t')\n",
    "            inst_file.write(inst['surfForms'][0].encode('ascii', 'ignore') + '\\t')\n",
    "            inst_file.write(inst['URI'] + '\\t')\n",
    "            inst_file.write(str(inst['rank']) + '\\t')\n",
    "            inst_file.write(str(len(inst['surfForms'])) + '\\n')\n",
    "\n",
    "    correct_f.append(f)\n",
    "    not_found_all += not_found\n",
    "inst_file.close()\n",
    "\n",
    "print()\n",
    "i=0\n",
    "with open('unknown_institutions.csv', 'a+') as fn:\n",
    "    already_saved = set()\n",
    "    fn.seek(0)\n",
    "    for line in fn:\n",
    "        already_saved.add(line.strip().split('\\t')[0])\n",
    "    fn.seek(0,2)\n",
    "    for insts, URI in not_found_all:\n",
    "        for inst in set(insts):\n",
    "            string = inst.replace(',','')\n",
    "            if string in already_saved:\n",
    "                already_saved.add(string)\n",
    "                continue\n",
    "            i += 1\n",
    "            #fn.write(string.encode('utf-8') + '\\t' + URI.encode('utf-8') + '\\t' + str(len(insts)) + '\\n')\n",
    "print(i, 'not found as institutions in leiden ranking.')\n",
    "print('Saved in unknown_institutions.csv')\n",
    "\n",
    "print()\n",
    "print(len(correct_f), 'correctly parsed files')\n",
    "print()\n",
    "\n",
    "new_faulty = 0\n",
    "with open('faulty_files.txt','a') as fn:\n",
    "    for filename in faulty_files:\n",
    "        if filename in faulty_set:\n",
    "            continue\n",
    "        fn.write(filename + '\\n')\n",
    "        new_faulty += 1\n",
    "\n",
    "print(new_faulty, 'faulty files saved in faulty_files.txt')\n",
    "\n",
    "end = time.time()\n",
    "try:\n",
    "    print(end-start,'seconds total.')\n",
    "    print((end-start)/(len(correct_f)+new_faulty), 'seconds per results')\n",
    "except:\n",
    "    pass"
   ]
  },
  {
   "cell_type": "code",
   "execution_count": null,
   "metadata": {
    "collapsed": true
   },
   "outputs": [],
   "source": []
  }
 ],
 "metadata": {
  "kernelspec": {
   "display_name": "Python 2",
   "language": "python",
   "name": "python2"
  },
  "language_info": {
   "codemirror_mode": {
    "name": "ipython",
    "version": 2
   },
   "file_extension": ".py",
   "mimetype": "text/x-python",
   "name": "python",
   "nbconvert_exporter": "python",
   "pygments_lexer": "ipython2",
   "version": "2.7.9"
  }
 },
 "nbformat": 4,
 "nbformat_minor": 0
}
